{
 "cells": [
  {
   "cell_type": "code",
   "execution_count": 1,
   "metadata": {},
   "outputs": [
    {
     "name": "stdout",
     "output_type": "stream",
     "text": [
      "36\n"
     ]
    }
   ],
   "source": [
    "#Question 1:\n",
    "sample_list=[2,3,6]\n",
    "s=1\n",
    "for i in sample_list:\n",
    "    s=s*i\n",
    "print(s)"
   ]
  },
  {
   "cell_type": "code",
   "execution_count": 2,
   "metadata": {},
   "outputs": [
    {
     "name": "stdout",
     "output_type": "stream",
     "text": [
      "[(1, 2), (2, 1), (2, 3), (2, 5), (4, 4)]\n"
     ]
    }
   ],
   "source": [
    "#Question 2:\n",
    "gh=[(2,5),(1,2),(4,4),(2,3),(2,1)]\n",
    "gh.sort()\n",
    "print(gh)"
   ]
  },
  {
   "cell_type": "code",
   "execution_count": 3,
   "metadata": {},
   "outputs": [
    {
     "name": "stdout",
     "output_type": "stream",
     "text": [
      "{'a': 400, 'b': 400, 'c': 300, 'd': 400}\n"
     ]
    }
   ],
   "source": [
    "#Question 3:\n",
    "d1={'a':100,'b':200,'c':300}\n",
    "d2={'a':300,'b':200,'d':400}\n",
    "d3={}\n",
    "for i in d1:\n",
    "    if i in d2:\n",
    "        d3[i]=d1[i]+d2[i]\n",
    "    else:\n",
    "        d3[i]=d1[i]\n",
    "for i in d2:\n",
    "    if i not in d1:\n",
    "        d3[i]=d2[i]\n",
    "print(d3)"
   ]
  },
  {
   "cell_type": "code",
   "execution_count": 4,
   "metadata": {},
   "outputs": [
    {
     "name": "stdout",
     "output_type": "stream",
     "text": [
      "give me a number: 15\n",
      "{1: 1, 2: 4, 3: 9, 4: 16, 5: 25, 6: 36, 7: 49, 8: 64, 9: 81, 10: 100, 11: 121, 12: 144, 13: 169, 14: 196, 15: 225}\n"
     ]
    }
   ],
   "source": [
    "#Question 4:\n",
    "n=int(input(\"give me a number: \"))\n",
    "dec={}\n",
    "for i in range(1,n+1):\n",
    "    dec[i]=i**2\n",
    "print(dec)"
   ]
  },
  {
   "cell_type": "code",
   "execution_count": 9,
   "metadata": {},
   "outputs": [
    {
     "name": "stdout",
     "output_type": "stream",
     "text": [
      "[('item3', '24.5'), ('item2', '15.10'), ('item1', '12.20')]\n"
     ]
    }
   ],
   "source": [
    "#question 5:\n",
    "price_1 = [('item1', '12.20'), ('item2', '15.10'), ('item3', '24.5')]\n",
    "print( sorted(price_1, key=lambda x: float(x[1]), reverse=True))"
   ]
  },
  {
   "cell_type": "code",
   "execution_count": null,
   "metadata": {},
   "outputs": [],
   "source": []
  }
 ],
 "metadata": {
  "kernelspec": {
   "display_name": "Python 3",
   "language": "python",
   "name": "python3"
  },
  "language_info": {
   "codemirror_mode": {
    "name": "ipython",
    "version": 3
   },
   "file_extension": ".py",
   "mimetype": "text/x-python",
   "name": "python",
   "nbconvert_exporter": "python",
   "pygments_lexer": "ipython3",
   "version": "3.7.0"
  }
 },
 "nbformat": 4,
 "nbformat_minor": 2
}
